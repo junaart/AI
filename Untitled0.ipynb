{
  "nbformat": 4,
  "nbformat_minor": 0,
  "metadata": {
    "colab": {
      "provenance": [],
      "authorship_tag": "ABX9TyPjZ+88OVMn2nsx4YauzEk3",
      "include_colab_link": true
    },
    "kernelspec": {
      "name": "python3",
      "display_name": "Python 3"
    },
    "language_info": {
      "name": "python"
    }
  },
  "cells": [
    {
      "cell_type": "markdown",
      "metadata": {
        "id": "view-in-github",
        "colab_type": "text"
      },
      "source": [
        "<a href=\"https://colab.research.google.com/github/junaart/AI/blob/main/Untitled0.ipynb\" target=\"_parent\"><img src=\"https://colab.research.google.com/assets/colab-badge.svg\" alt=\"Open In Colab\"/></a>"
      ]
    },
    {
      "cell_type": "code",
      "execution_count": null,
      "metadata": {
        "id": "SuwVrU7G_4uH",
        "colab": {
          "base_uri": "https://localhost:8080/"
        },
        "outputId": "df51c2a4-d182-40ce-c7ff-dedaeca9e87e"
      },
      "outputs": [
        {
          "output_type": "stream",
          "name": "stdout",
          "text": [
            "Введите строкуjhjkhkj\n",
            "jhjkhkj\n"
          ]
        }
      ],
      "source": [
        "h=input(\"Введите строку\")\n",
        "print(h)"
      ]
    },
    {
      "cell_type": "code",
      "source": [
        "import keras"
      ],
      "metadata": {
        "id": "g928OW3yHEy_"
      },
      "execution_count": 2,
      "outputs": []
    },
    {
      "cell_type": "markdown",
      "source": [
        "# Новый раздел"
      ],
      "metadata": {
        "id": "yyiyRPl9Jgg2"
      }
    },
    {
      "cell_type": "code",
      "source": [],
      "metadata": {
        "id": "JkH57EUjHFJV"
      },
      "execution_count": null,
      "outputs": []
    },
    {
      "cell_type": "code",
      "source": [],
      "metadata": {
        "id": "zvEiJIBsJi_N"
      },
      "execution_count": null,
      "outputs": []
    }
  ]
}